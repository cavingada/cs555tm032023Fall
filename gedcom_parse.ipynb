{
 "cells": [
  {
   "cell_type": "code",
   "execution_count": 172,
   "metadata": {},
   "outputs": [],
   "source": [
    "import pandas as pd\n",
    "key_words = ['INDI', 'NAME', 'SEX', 'BIRT', 'DEAT', 'FAMC', 'FAMS', 'FAM', 'MARR', 'HUSB', 'WIFE', 'CHIL', 'DIV', 'DATE', 'HEAD', 'TRLR', 'NOTE']"
   ]
  },
  {
   "cell_type": "code",
   "execution_count": 173,
   "metadata": {},
   "outputs": [],
   "source": [
    "file = open('example.ged', 'r')"
   ]
  },
  {
   "cell_type": "code",
   "execution_count": 174,
   "metadata": {},
   "outputs": [
    {
     "name": "stdout",
     "output_type": "stream",
     "text": [
      "     ID  NAME   SEX         BIRT        DEAT    FAMC          FAMS\n",
      "0  @I1@  <NA>  <NA>   9 SEP 1999        <NA>  [@F3@]  [@F1@, @F2@]\n",
      "1  @I2@  <NA>  <NA>  12 MAR 1973        <NA>      []        [@F3@]\n",
      "2  @I3@  <NA>  <NA>   4 MAY 1975        <NA>      []        [@F3@]\n",
      "3  @I4@  <NA>  <NA>   4 MAR 1999  8 MAY 2020      []        [@F2@]\n",
      "4  @I5@  <NA>  <NA>   4 FEB 1999        <NA>      []        [@F1@]\n",
      "5  @I6@  <NA>  <NA>   1 JAN 2023        <NA>  [@F1@]            []\n",
      "6  @I7@  <NA>  <NA>   9 FEB 2019        <NA>  [@F2@]            []\n"
     ]
    }
   ],
   "source": [
    "# print the unique identifiers and names of each of the individuals \n",
    "# in order by their unique identifiers. \n",
    "individuals = pd.DataFrame(columns=['ID', 'NAME', 'SEX', 'BIRT', 'DEAT', 'FAMC', 'FAMS'])\n",
    "families = pd.DataFrame(columns=['ID', 'MARR', 'DIV', 'HUSB', 'WIFE', 'CHIL'])\n",
    "\n",
    "curr_id = ''\n",
    "isIndividual = False\n",
    "isBirth = True\n",
    "\n",
    "for line in file:\n",
    "    line_words = line.split()\n",
    "    if not line_words:\n",
    "        continue\n",
    "    # get the first element since at is the tag of line\n",
    "    level = line_words[0].strip()\n",
    "    try:\n",
    "        if line_words[2].strip() == \"INDI\" or line_words[2].strip() == \"FAM\":\n",
    "            if line_words[2] == \"INDI\":\n",
    "                isIndividual = True\n",
    "            else:\n",
    "                isIndividual = False\n",
    "            line_tag = line_words[2].strip()\n",
    "            arguments = line_words[1].strip()\n",
    "      \n",
    "        else:\n",
    "            line_tag = line_words[1].strip()\n",
    "            arguments = line.split(line_tag)[-1].strip() \n",
    "    except:\n",
    "        line_tag = line_words[1].strip()\n",
    "        arguments = line.split(line_tag)[-1].strip()\n",
    "    \n",
    "    # check if that is present in the keywords\n",
    "    if line_tag in key_words:\n",
    "        if (isIndividual):\n",
    "            if level == \"0\": # new block, individual or fam\n",
    "                curr_id = arguments\n",
    "                new_row = pd.DataFrame([{'ID': curr_id, 'NAME':pd.NA, 'SEX':pd.NA, 'BIRT':pd.NA, 'DEAT':pd.NA, 'FAMC':[], 'FAMS':[]}])\n",
    "                individuals = pd.concat([individuals, new_row], ignore_index=True)\n",
    "            if level == \"1\" and (line_tag != 'BIRT' or line_tag!= 'DEAT' or line_tag!=\"INDI\"):\n",
    "                index_to_modify = individuals[individuals['ID'] == curr_id].index[0]\n",
    "                if line_tag == \"FAMC\" or line_tag == \"FAMS\":\n",
    "                    individuals.loc[index_to_modify, line_tag].append(arguments)\n",
    "                else:\n",
    "                    individuals.loc[index_to_modify, line_tag] = arguments\n",
    "            if level == \"2\":\n",
    "                index_to_modify = individuals[individuals['ID'] == curr_id].index[0]\n",
    "                if isBirth:\n",
    "                    individuals.loc[index_to_modify, 'BIRT'] = arguments\n",
    "                else:\n",
    "                    individuals.loc[index_to_modify, 'DEAT'] = arguments\n",
    "            else:\n",
    "                if line_tag == \"BIRT\":\n",
    "                    isBirth = True\n",
    "                elif line_tag == \"DEAT\":\n",
    "                    isBirth = False\n",
    "    else:\n",
    "        valid = 'N'\n",
    "print(individuals)"
   ]
  }
 ],
 "metadata": {
  "kernelspec": {
   "display_name": "base",
   "language": "python",
   "name": "python3"
  },
  "language_info": {
   "codemirror_mode": {
    "name": "ipython",
    "version": 3
   },
   "file_extension": ".py",
   "mimetype": "text/x-python",
   "name": "python",
   "nbconvert_exporter": "python",
   "pygments_lexer": "ipython3",
   "version": "3.8.8"
  },
  "orig_nbformat": 4
 },
 "nbformat": 4,
 "nbformat_minor": 2
}
