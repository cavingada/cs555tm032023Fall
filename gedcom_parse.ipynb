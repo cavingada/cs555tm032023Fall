{
 "cells": [
  {
   "cell_type": "code",
   "execution_count": 31,
   "metadata": {},
   "outputs": [],
   "source": [
    "import pandas as pd\n",
    "key_words = ['INDI', 'NAME', 'SEX', 'BIRT', 'DEAT', 'FAMC', 'FAMS', 'FAM', 'MARR', 'HUSB', 'WIFE', 'CHIL', 'DIV', 'DATE', 'HEAD', 'TRLR', 'NOTE']"
   ]
  },
  {
   "cell_type": "code",
   "execution_count": 32,
   "metadata": {},
   "outputs": [],
   "source": [
    "file = open('example.ged', 'r')"
   ]
  },
  {
   "cell_type": "code",
   "execution_count": 33,
   "metadata": {},
   "outputs": [
    {
     "name": "stdout",
     "output_type": "stream",
     "text": [
      "     ID          NAME SEX         BIRT        DEAT    FAMC          FAMS\n",
      "0  @I1@  Cavin /Gada/   M   9 SEP 1999        <NA>  [@F3@]  [@F1@, @F2@]\n",
      "1  @I2@    Joe /Gada/   M  12 MAR 1973        <NA>      []        [@F3@]\n",
      "2  @I3@   Jane /Gada/   F   4 MAY 1975        <NA>      []        [@F3@]\n",
      "3  @I4@  Rachel /Dow/   F   4 MAR 1999  8 MAY 2020      []        [@F2@]\n",
      "4  @I5@   Hanna /Doe/   F   4 FEB 1999        <NA>      []        [@F1@]\n",
      "5  @I6@    Rex /Gada/   M   1 JAN 2023        <NA>  [@F1@]            []\n",
      "6  @I7@    Joe /Gada/   M   9 FEB 2019        <NA>  [@F2@]            []\n",
      "     ID         MARR   DIV  HUSB  WIFE    CHIL\n",
      "0  @F1@  10 MAY 2020  <NA>  @I1@  @I5@  [@I6@]\n",
      "1  @F2@   1 JAN 2018  <NA>  @I1@  @I4@  [@I7@]\n",
      "2  @F3@   1 JAN 1995  <NA>  @I2@  @I3@  [@I1@]\n"
     ]
    }
   ],
   "source": [
    "# print the unique identifiers and names of each of the individuals \n",
    "# in order by their unique identifiers. \n",
    "individuals = pd.DataFrame(columns=['ID', 'NAME', 'SEX', 'BIRT', 'DEAT', 'FAMC', 'FAMS'])\n",
    "families = pd.DataFrame(columns=['ID', 'MARR', 'DIV', 'HUSB', 'WIFE', 'CHIL'])\n",
    "\n",
    "curr_id = ''\n",
    "isIndividual = False\n",
    "isBirth = True\n",
    "isMarried = True\n",
    "for line in file:\n",
    "    line_words = line.split()\n",
    "    if not line_words:\n",
    "        continue\n",
    "    # get the first element since at is the tag of line\n",
    "    level = line_words[0].strip()\n",
    "    try:\n",
    "        if line_words[2].strip() == \"INDI\" or line_words[2].strip() == \"FAM\":\n",
    "            if line_words[2] == \"INDI\":\n",
    "                isIndividual = True\n",
    "            else:\n",
    "                isIndividual = False\n",
    "            line_tag = line_words[2].strip()\n",
    "            arguments = line_words[1].strip()\n",
    "      \n",
    "        else:\n",
    "            line_tag = line_words[1].strip()\n",
    "            arguments = line.split(line_tag)[-1].strip() \n",
    "    except:\n",
    "        line_tag = line_words[1].strip()\n",
    "        arguments = line.split(line_tag)[-1].strip()\n",
    "    \n",
    "    # check if that is present in the keywords\n",
    "    if line_tag in key_words:\n",
    "        if line_tag == \"NOTE\" or line_tag == \"TRLR\":\n",
    "            continue\n",
    "        if (isIndividual):\n",
    "            if level == \"0\": # new block, individual or fam\n",
    "                curr_id = arguments\n",
    "                new_row = pd.DataFrame([{'ID': curr_id, 'NAME':pd.NA, 'SEX':pd.NA, 'BIRT':pd.NA, 'DEAT':pd.NA, 'FAMC':[], 'FAMS':[]}])\n",
    "                individuals = pd.concat([individuals, new_row], ignore_index=True)\n",
    "            if level == \"1\" and (line_tag != 'BIRT' or line_tag!= 'DEAT' or line_tag!=\"INDI\"):\n",
    "                index_to_modify = individuals[individuals['ID'] == curr_id].index[0]\n",
    "                if line_tag == \"FAMC\" or line_tag == \"FAMS\":\n",
    "                    individuals.loc[index_to_modify, line_tag].append(arguments)\n",
    "                else:\n",
    "                    individuals.loc[index_to_modify, line_tag] = arguments\n",
    "            if level == \"2\":\n",
    "                index_to_modify = individuals[individuals['ID'] == curr_id].index[0]\n",
    "                if isBirth:\n",
    "                    individuals.loc[index_to_modify, 'BIRT'] = arguments\n",
    "                else:\n",
    "                    individuals.loc[index_to_modify, 'DEAT'] = arguments\n",
    "            else:\n",
    "                if line_tag == \"BIRT\":\n",
    "                    isBirth = True\n",
    "                elif line_tag == \"DEAT\":\n",
    "                    isBirth = False\n",
    "        else:\n",
    "            if level == \"0\":\n",
    "                curr_id = arguments\n",
    "                new_row = pd.DataFrame([{'ID': curr_id, 'MARR':pd.NA, 'DIV':pd.NA, 'HUSB':pd.NA, 'WIFE':pd.NA, 'CHIL':[] }])\n",
    "                families = pd.concat([families, new_row], ignore_index=True)\n",
    "            if level == \"1\":\n",
    "                index_to_modify = families[families['ID'] == curr_id].index[0]\n",
    "                if line_tag == \"CHIL\":\n",
    "                    families.loc[index_to_modify, line_tag].append(arguments)\n",
    "                else:\n",
    "                    if line_tag == \"MARR\":\n",
    "                        isMarried = True\n",
    "                    elif line_tag == \"DIV\":\n",
    "                        isMarried = False\n",
    "                    else:\n",
    "                        families.loc[index_to_modify, line_tag] = arguments\n",
    "            if level == \"2\":\n",
    "                index_to_modify = families[families['ID'] == curr_id].index[0]\n",
    "                if isMarried:\n",
    "                    families.loc[index_to_modify, 'MARR'] = arguments\n",
    "                else:\n",
    "                    families.loc[index_to_modify, 'DIV'] = arguments\n",
    "    else:\n",
    "        valid = 'N'\n",
    "print(individuals)\n",
    "print(families)"
   ]
  }
 ],
 "metadata": {
  "kernelspec": {
   "display_name": "base",
   "language": "python",
   "name": "python3"
  },
  "language_info": {
   "codemirror_mode": {
    "name": "ipython",
    "version": 3
   },
   "file_extension": ".py",
   "mimetype": "text/x-python",
   "name": "python",
   "nbconvert_exporter": "python",
   "pygments_lexer": "ipython3",
   "version": "3.9.13"
  },
  "orig_nbformat": 4
 },
 "nbformat": 4,
 "nbformat_minor": 2
}
