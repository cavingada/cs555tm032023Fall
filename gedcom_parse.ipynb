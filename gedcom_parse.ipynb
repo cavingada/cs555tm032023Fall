{
 "cells": [
  {
   "cell_type": "code",
   "execution_count": 5,
   "metadata": {},
   "outputs": [],
   "source": [
    "key_words = ['INDI', 'NAME', 'SEX', 'BIRT', 'DEAT', 'FAMC', 'FAMS', 'FAM', 'MARR', 'HUSB', 'WIFE', 'CHIL', 'DIV', 'DATE', 'HEAD', 'TRLR', 'NOTE']"
   ]
  },
  {
   "cell_type": "code",
   "execution_count": 6,
   "metadata": {},
   "outputs": [],
   "source": [
    "file = open('example.ged', 'r')"
   ]
  },
  {
   "cell_type": "code",
   "execution_count": 7,
   "metadata": {},
   "outputs": [
    {
     "name": "stdout",
     "output_type": "stream",
     "text": [
      "--> 0 NOTE Cavin Gada\n",
      "<-- 0|NOTE|Y|Cavin Gada\n",
      "--> 0 @I1@ INDI\n",
      "<-- 0|INDI|Y|@I1@\n",
      "--> 1 NAME Cavin /Gada/\n",
      "<-- 1|NAME|Y|Cavin /Gada/\n",
      "--> 1 SEX M\n",
      "<-- 1|SEX|Y|M\n",
      "--> 1 BIRT\n",
      "<-- 1|BIRT|Y\n",
      "--> 2 DATE 9 SEP 1999\n",
      "<-- 2|DATE|Y|9 SEP 1999\n",
      "--> 1 FAMS @F1@\n",
      "<-- 1|FAMS|Y|@F1@\n",
      "--> 1 FAMS @F2@\n",
      "<-- 1|FAMS|Y|@F2@\n",
      "--> 1 FAMC @F3@\n",
      "<-- 1|FAMC|Y|@F3@\n",
      "--> \n"
     ]
    },
    {
     "ename": "IndexError",
     "evalue": "list index out of range",
     "output_type": "error",
     "traceback": [
      "\u001b[0;31m---------------------------------------------------------------------------\u001b[0m",
      "\u001b[0;31mIndexError\u001b[0m                                Traceback (most recent call last)",
      "\u001b[1;32m/Users/cavingada/Documents/College Documents/CLASSES/CS555/gedcom/gedcom_parse.ipynb Cell 3\u001b[0m line \u001b[0;36m7\n\u001b[1;32m      <a href='vscode-notebook-cell:/Users/cavingada/Documents/College%20Documents/CLASSES/CS555/gedcom/gedcom_parse.ipynb#W2sZmlsZQ%3D%3D?line=4'>5</a>\u001b[0m line_words \u001b[39m=\u001b[39m line\u001b[39m.\u001b[39msplit()\n\u001b[1;32m      <a href='vscode-notebook-cell:/Users/cavingada/Documents/College%20Documents/CLASSES/CS555/gedcom/gedcom_parse.ipynb#W2sZmlsZQ%3D%3D?line=5'>6</a>\u001b[0m \u001b[39m# get the first element since that is the tag of line\u001b[39;00m\n\u001b[0;32m----> <a href='vscode-notebook-cell:/Users/cavingada/Documents/College%20Documents/CLASSES/CS555/gedcom/gedcom_parse.ipynb#W2sZmlsZQ%3D%3D?line=6'>7</a>\u001b[0m level \u001b[39m=\u001b[39m line_words[\u001b[39m0\u001b[39;49m]\u001b[39m.\u001b[39mstrip()\n\u001b[1;32m      <a href='vscode-notebook-cell:/Users/cavingada/Documents/College%20Documents/CLASSES/CS555/gedcom/gedcom_parse.ipynb#W2sZmlsZQ%3D%3D?line=7'>8</a>\u001b[0m \u001b[39mtry\u001b[39;00m:\n\u001b[1;32m      <a href='vscode-notebook-cell:/Users/cavingada/Documents/College%20Documents/CLASSES/CS555/gedcom/gedcom_parse.ipynb#W2sZmlsZQ%3D%3D?line=8'>9</a>\u001b[0m     \u001b[39mif\u001b[39;00m line_words[\u001b[39m2\u001b[39m]\u001b[39m.\u001b[39mstrip() \u001b[39m==\u001b[39m \u001b[39m\"\u001b[39m\u001b[39mINDI\u001b[39m\u001b[39m\"\u001b[39m \u001b[39mor\u001b[39;00m line_words[\u001b[39m2\u001b[39m]\u001b[39m.\u001b[39mstrip() \u001b[39m==\u001b[39m \u001b[39m\"\u001b[39m\u001b[39mFAM\u001b[39m\u001b[39m\"\u001b[39m:\n",
      "\u001b[0;31mIndexError\u001b[0m: list index out of range"
     ]
    }
   ],
   "source": [
    "for line in file:\n",
    "    print(\"--> \" + line.strip())\n",
    "    line_words = line.split()\n",
    "    # get the first element since that is the tag of line\n",
    "    level = line_words[0].strip()\n",
    "    try:\n",
    "        if line_words[2].strip() == \"INDI\" or line_words[2].strip() == \"FAM\":\n",
    "            line_tag = line_words[2].strip()\n",
    "            arguments = line_words[1].strip()\n",
    "        else:\n",
    "            line_tag = line_words[1].strip()\n",
    "            arguments = line.split(line_tag)[-1].strip() \n",
    "    except:\n",
    "        line_tag = line_words[1].strip()\n",
    "        arguments = line.split(line_tag)[-1].strip()\n",
    "    \n",
    "    # check if that is present in the keywords\n",
    "    if line_tag in key_words:\n",
    "        valid = 'Y'\n",
    "    else:\n",
    "        valid = 'N'\n",
    "    \n",
    "    \n",
    "    if len(arguments) > 0:\n",
    "        print(\"<-- \" + level + \"|\" + line_tag + \"|\" + valid + \"|\" + arguments)\n",
    "    else:\n",
    "        print(\"<-- \" + level + \"|\" + line_tag + \"|\" + valid)\n"
   ]
  },
  {
   "cell_type": "code",
   "execution_count": null,
   "metadata": {},
   "outputs": [],
   "source": []
  }
 ],
 "metadata": {
  "kernelspec": {
   "display_name": "base",
   "language": "python",
   "name": "python3"
  },
  "language_info": {
   "codemirror_mode": {
    "name": "ipython",
    "version": 3
   },
   "file_extension": ".py",
   "mimetype": "text/x-python",
   "name": "python",
   "nbconvert_exporter": "python",
   "pygments_lexer": "ipython3",
   "version": "3.8.8"
  },
  "orig_nbformat": 4
 },
 "nbformat": 4,
 "nbformat_minor": 2
}
